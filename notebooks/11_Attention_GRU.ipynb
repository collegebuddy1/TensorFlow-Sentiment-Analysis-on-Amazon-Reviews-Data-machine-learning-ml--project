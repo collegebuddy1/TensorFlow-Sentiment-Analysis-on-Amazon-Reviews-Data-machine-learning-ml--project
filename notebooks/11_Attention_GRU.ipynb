{
 "cells": [
  {
   "cell_type": "code",
   "execution_count": 1,
   "metadata": {},
   "outputs": [
    {
     "name": "stderr",
     "output_type": "stream",
     "text": [
      "Using TensorFlow backend.\n"
     ]
    }
   ],
   "source": [
    "import numpy as np\n",
    "import pandas as pd\n",
    "from keras.preprocessing.text import Tokenizer\n",
    "from keras.preprocessing.text import text_to_word_sequence\n",
    "import os\n",
    "from tqdm import tqdm\n",
    "import re\n",
    "from keras.preprocessing.sequence import pad_sequences\n",
    "import tensorflow as tf\n",
    "from datetime import datetime"
   ]
  },
  {
   "cell_type": "code",
   "execution_count": 2,
   "metadata": {},
   "outputs": [],
   "source": [
    "#Always seed the randomness of this universe.\n",
    "np.random.seed(51)"
   ]
  },
  {
   "cell_type": "code",
   "execution_count": 3,
   "metadata": {},
   "outputs": [],
   "source": [
    "#Define HyperParameters\n",
    "MAX_WORD_TO_USE = 100000 # how many words to use in training\n",
    "MAX_LEN = 80 # number of time-steps.\n",
    "EMBED_SIZE = 100 #GLoVe 100-D\n",
    "batchSize = 128 # how many samples to feed neural network\n",
    "GRU_UNITS = 256 # Number of nodes in GRU Layer\n",
    "attention_size = 64 # how many nodes in attention layer\n",
    "numClasses = 2 #{Positive,Negative}\n",
    "iterations = 100000 # How many iterations to train\n",
    "nodes_on_FC = 64 # Number of nodes on FC layer\n",
    "epsilon = 1e-4# For batch normalization\n",
    "val_loop_iter = 50 # in how many iters we record"
   ]
  },
  {
   "cell_type": "markdown",
   "metadata": {},
   "source": [
    "# CLEANING DATA"
   ]
  },
  {
   "cell_type": "code",
   "execution_count": 4,
   "metadata": {},
   "outputs": [],
   "source": [
    "#Reading csv's\n",
    "train = pd.read_csv('../dataset/train_amazon.csv')\n",
    "test = pd.read_csv('../dataset/test_amazon.csv')"
   ]
  },
  {
   "cell_type": "code",
   "execution_count": 5,
   "metadata": {},
   "outputs": [],
   "source": [
    "#Removing punctuations\n",
    "#Converting to Lowercase and cleaning punctiations\n",
    "train['text'] = train['text'].apply(lambda x: ' '.join( text_to_word_sequence(x) ) )\n",
    "test['text'] = test['text'].apply(lambda x: ' '.join( text_to_word_sequence(x) ) )"
   ]
  },
  {
   "cell_type": "code",
   "execution_count": 6,
   "metadata": {},
   "outputs": [],
   "source": [
    "def remove_numbers(x):\n",
    "    x = re.sub('[0-9]{5,}', '#####', x)\n",
    "    x = re.sub('[0-9]{4}', '####', x)\n",
    "    x = re.sub('[0-9]{3}', '###', x)\n",
    "    x = re.sub('[0-9]{2}', '##', x)\n",
    "    return x"
   ]
  },
  {
   "cell_type": "code",
   "execution_count": 7,
   "metadata": {},
   "outputs": [],
   "source": [
    "#Removing Numbers\n",
    "train['text'] = train['text'].apply(lambda x: remove_numbers(x) ) \n",
    "test['text'] = test['text'].apply(lambda x: remove_numbers(x) )"
   ]
  },
  {
   "cell_type": "code",
   "execution_count": 8,
   "metadata": {},
   "outputs": [],
   "source": [
    "## Tokenize the sentences\n",
    "tokenizer = Tokenizer(num_words=MAX_WORD_TO_USE)\n",
    "tokenizer.fit_on_texts(list(train['text']))\n",
    "train_X = tokenizer.texts_to_sequences(train['text'])\n",
    "test_X = tokenizer.texts_to_sequences(test['text'])\n",
    "## Pad the sentences \n",
    "train_X = pad_sequences(train_X, maxlen=MAX_LEN)\n",
    "test_X = pad_sequences(test_X, maxlen=MAX_LEN)\n",
    "#Converting target to one-hot format\n",
    "train_y = pd.get_dummies(train['label']).values\n",
    "test_y = pd.get_dummies(test['label']).values"
   ]
  },
  {
   "cell_type": "code",
   "execution_count": 9,
   "metadata": {},
   "outputs": [],
   "source": [
    "#words_dict is a dictionary like this: \n",
    "#words_dict = {'the':5,'among':20,'interest':578}\n",
    "#words_dict includes words and their corresponding numbers.\n",
    "words_dict = tokenizer.word_index"
   ]
  },
  {
   "cell_type": "code",
   "execution_count": 10,
   "metadata": {},
   "outputs": [],
   "source": [
    "#Present working directory\n",
    "working_dir = os.getcwd()\n",
    "\n",
    "EMBEDDING_FILE = '../glove.6B.{}d.txt'.format(EMBED_SIZE)\n",
    "def get_coefs(word,*arr):\n",
    "    \"\"\"\n",
    "    Reading word embedding\n",
    "    from: https://www.kaggle.com/shujian/single-rnn-with-4-folds-clr\n",
    "    \"\"\"\n",
    "    return word, np.asarray(arr, dtype='float32')\n",
    "\n",
    "embeddings_index = dict(get_coefs(*o.split(\" \")) for o in open(os.path.join(working_dir,EMBEDDING_FILE) ))"
   ]
  },
  {
   "cell_type": "code",
   "execution_count": 11,
   "metadata": {},
   "outputs": [
    {
     "name": "stdout",
     "output_type": "stream",
     "text": [
      "There are 400000 words in our Word Embeddings file\n"
     ]
    }
   ],
   "source": [
    "print(\"There are {} words in our Word Embeddings file\".format(len(embeddings_index)))"
   ]
  },
  {
   "cell_type": "code",
   "execution_count": 12,
   "metadata": {},
   "outputs": [],
   "source": [
    "all_embs = np.stack(embeddings_index.values())\n",
    "#Calculating mean and std to fill embedding matrix\n",
    "emb_mean,emb_std = all_embs.mean(), all_embs.std()\n",
    "embed_size = all_embs.shape[1]\n",
    "#Choosing how many words to use in the embedding matrix\n",
    "nb_words = min(MAX_WORD_TO_USE, len(words_dict))\n",
    "#Creating a random Embedding Matrix to fill later\n",
    "embedding_matrix = np.random.normal(emb_mean, emb_std, (nb_words, embed_size))"
   ]
  },
  {
   "cell_type": "code",
   "execution_count": 13,
   "metadata": {},
   "outputs": [],
   "source": [
    "#Filling out randomly created embedding matrix with true values.\n",
    "for word, i in words_dict.items():\n",
    "    if i >= MAX_WORD_TO_USE:\n",
    "        continue\n",
    "    embedding_vector = embeddings_index.get(word)\n",
    "    if embedding_vector is not None:\n",
    "        embedding_matrix[i] = embedding_vector"
   ]
  },
  {
   "cell_type": "code",
   "execution_count": 14,
   "metadata": {},
   "outputs": [],
   "source": [
    "#Converting float64 to float32 for convenience\n",
    "embedding_matrix = embedding_matrix.astype('float32')"
   ]
  },
  {
   "cell_type": "code",
   "execution_count": 15,
   "metadata": {},
   "outputs": [],
   "source": [
    "#Resetting the graph\n",
    "tf.reset_default_graph()"
   ]
  },
  {
   "cell_type": "code",
   "execution_count": 16,
   "metadata": {},
   "outputs": [],
   "source": [
    "#Seed the randomness\n",
    "tf.set_random_seed(51)"
   ]
  },
  {
   "cell_type": "code",
   "execution_count": 17,
   "metadata": {},
   "outputs": [],
   "source": [
    "#Defining Placeholders\n",
    "input_data = tf.placeholder(tf.int32, [None, MAX_LEN])\n",
    "y_true = tf.placeholder(tf.float32, [None, numClasses])"
   ]
  },
  {
   "cell_type": "code",
   "execution_count": 18,
   "metadata": {},
   "outputs": [],
   "source": [
    "hold_prob1 = tf.placeholder(tf.float32)"
   ]
  },
  {
   "cell_type": "code",
   "execution_count": 19,
   "metadata": {},
   "outputs": [],
   "source": [
    "#Creating our Embedding matrix\n",
    "data = tf.nn.embedding_lookup(embedding_matrix,input_data)"
   ]
  },
  {
   "cell_type": "code",
   "execution_count": 20,
   "metadata": {},
   "outputs": [],
   "source": [
    "#Defining GRU Layer\n",
    "GRUCell = tf.contrib.rnn.GRUCell(num_units=GRU_UNITS,bias_initializer=tf.constant_initializer(0.1),\n",
    "                                 kernel_initializer=tf.keras.initializers.glorot_normal())\n",
    "#Adding dropout\n",
    "GRUCell = tf.contrib.rnn.DropoutWrapper(cell=GRUCell, output_keep_prob=0.75)\n",
    "#Defining zero_state\n",
    "initial_state = GRUCell.zero_state(batchSize, dtype=tf.float32)\n",
    "#Unrolling the RNN, value is a tensor having a shape of [batchSize, MAX_LEN, GRU_Units]\n",
    "value, _ = tf.nn.dynamic_rnn(cell = GRUCell,inputs= data,initial_state=initial_state, dtype=tf.float32)"
   ]
  },
  {
   "cell_type": "code",
   "execution_count": 21,
   "metadata": {},
   "outputs": [
    {
     "name": "stdout",
     "output_type": "stream",
     "text": [
      "Shape of value =  [128, 80, 256]\n"
     ]
    }
   ],
   "source": [
    "print(\"Shape of value = \",value.get_shape().as_list())"
   ]
  },
  {
   "cell_type": "markdown",
   "metadata": {},
   "source": [
    "# #Attention Layer"
   ]
  },
  {
   "cell_type": "code",
   "execution_count": 22,
   "metadata": {},
   "outputs": [],
   "source": [
    "#Attention Layer\n",
    "\"\"\"\n",
    "from :https://github.com/TobiasLee/Text-Classification/blob/master/models/modules/attention.py\n",
    "\"\"\"\n",
    "time_major=False\n",
    "return_alphas=False\n",
    "bidirectional_existing =False\n",
    "weight_in_att = tf.Variable(tf.truncated_normal([GRU_UNITS, attention_size],stddev=0.1))\n",
    "bias_in_att = tf.Variable(tf.constant(0.1, shape=[attention_size]))\n",
    "weight_out_att = tf.Variable(tf.truncated_normal([attention_size],stddev=0.1))"
   ]
  },
  {
   "cell_type": "code",
   "execution_count": 23,
   "metadata": {},
   "outputs": [],
   "source": [
    "if bidirectional_existing:\n",
    "    value = tf.concat(value, 2)"
   ]
  },
  {
   "cell_type": "code",
   "execution_count": 24,
   "metadata": {},
   "outputs": [],
   "source": [
    "if time_major:\n",
    "    value = tf.array_ops.transpose(value, [1, 0, 2])"
   ]
  },
  {
   "cell_type": "code",
   "execution_count": 25,
   "metadata": {},
   "outputs": [],
   "source": [
    "v = tf.tanh(tf.tensordot(value, weight_in_att, axes=1) + bias_in_att)"
   ]
  },
  {
   "cell_type": "code",
   "execution_count": 26,
   "metadata": {},
   "outputs": [
    {
     "name": "stdout",
     "output_type": "stream",
     "text": [
      "[128, 80, 64]\n"
     ]
    }
   ],
   "source": [
    "print(v.get_shape().as_list())"
   ]
  },
  {
   "cell_type": "code",
   "execution_count": 27,
   "metadata": {},
   "outputs": [
    {
     "data": {
      "text/plain": [
       "<tf.Tensor 'Tensordot_1:0' shape=(128, 80) dtype=float32>"
      ]
     },
     "execution_count": 27,
     "metadata": {},
     "output_type": "execute_result"
    }
   ],
   "source": [
    "tf.tensordot(v, weight_out_att, axes=1)"
   ]
  },
  {
   "cell_type": "code",
   "execution_count": 28,
   "metadata": {},
   "outputs": [],
   "source": [
    "vu = tf.tensordot(v, weight_out_att, axes=1)"
   ]
  },
  {
   "cell_type": "code",
   "execution_count": 29,
   "metadata": {},
   "outputs": [
    {
     "name": "stdout",
     "output_type": "stream",
     "text": [
      "[128, 80]\n"
     ]
    }
   ],
   "source": [
    "print(vu.get_shape().as_list())"
   ]
  },
  {
   "cell_type": "code",
   "execution_count": 30,
   "metadata": {},
   "outputs": [],
   "source": [
    "alphas = tf.nn.softmax(vu)"
   ]
  },
  {
   "cell_type": "code",
   "execution_count": 31,
   "metadata": {},
   "outputs": [
    {
     "name": "stdout",
     "output_type": "stream",
     "text": [
      "[128, 80]\n"
     ]
    }
   ],
   "source": [
    "print(alphas.get_shape().as_list())"
   ]
  },
  {
   "cell_type": "code",
   "execution_count": 32,
   "metadata": {},
   "outputs": [],
   "source": [
    "temp = value * tf.expand_dims(alphas, -1)"
   ]
  },
  {
   "cell_type": "code",
   "execution_count": 33,
   "metadata": {},
   "outputs": [
    {
     "name": "stdout",
     "output_type": "stream",
     "text": [
      "[128, 80, 256]\n"
     ]
    }
   ],
   "source": [
    "print(temp.get_shape().as_list())"
   ]
  },
  {
   "cell_type": "code",
   "execution_count": 34,
   "metadata": {},
   "outputs": [],
   "source": [
    "# Output of (Bi-)RNN is reduced with attention vector; the result has (B,D) shape\n",
    "output = tf.reduce_sum(temp, 1)"
   ]
  },
  {
   "cell_type": "code",
   "execution_count": 35,
   "metadata": {},
   "outputs": [
    {
     "name": "stdout",
     "output_type": "stream",
     "text": [
      "[128, 256]\n"
     ]
    }
   ],
   "source": [
    "print(output.get_shape().as_list())"
   ]
  },
  {
   "cell_type": "code",
   "execution_count": 36,
   "metadata": {},
   "outputs": [],
   "source": [
    "#Defining weights and biases for 1 st Fully Connected part of NN\n",
    "weight_fc1 = tf.Variable(tf.truncated_normal([GRU_UNITS, nodes_on_FC]))\n",
    "bias_fc1 = tf.Variable(tf.constant(0.1, shape=[nodes_on_FC]))"
   ]
  },
  {
   "cell_type": "code",
   "execution_count": 37,
   "metadata": {},
   "outputs": [],
   "source": [
    "#Defining 1st FC layer\n",
    "y_pred_without_BN = tf.matmul(output, weight_fc1) + bias_fc1\n",
    "#calculating batch_mean and batch_variance\n",
    "batch_mean, batch_var = tf.nn.moments(y_pred_without_BN,[0])\n",
    "#Creating parameters for Batch normalization\n",
    "scale = tf.Variable(tf.ones([nodes_on_FC]))\n",
    "beta = tf.Variable(tf.zeros([nodes_on_FC]))\n",
    "#Implementing batch normalization\n",
    "y_pred_without_activation = tf.nn.batch_normalization(y_pred_without_BN,batch_mean,batch_var,beta,scale,epsilon)"
   ]
  },
  {
   "cell_type": "code",
   "execution_count": 38,
   "metadata": {},
   "outputs": [],
   "source": [
    "#Applying RELU\n",
    "y_pred_with_activation = tf.nn.relu(y_pred_without_activation)\n",
    "#Dropout Layer 1\n",
    "y_pred_with_dropout = tf.nn.dropout(y_pred_with_activation,keep_prob=hold_prob1)"
   ]
  },
  {
   "cell_type": "code",
   "execution_count": 39,
   "metadata": {},
   "outputs": [],
   "source": [
    "#Defining weights and biases for 1 st Fully Connected part of NN\n",
    "weight_output_layer = tf.Variable(tf.truncated_normal([nodes_on_FC, numClasses]))\n",
    "bias_output_layer = tf.Variable(tf.constant(0.1, shape=[numClasses]))\n",
    "#Calculating last layer of NN, without any activation\n",
    "y_pred = tf.matmul(y_pred_with_dropout, weight_output_layer) + bias_output_layer"
   ]
  },
  {
   "cell_type": "code",
   "execution_count": 40,
   "metadata": {},
   "outputs": [],
   "source": [
    "#Defining Accuracy\n",
    "matches = tf.equal(tf.argmax(y_pred,1),tf.argmax(y_true,1))\n",
    "acc = tf.reduce_mean(tf.cast(matches,tf.float32))"
   ]
  },
  {
   "cell_type": "code",
   "execution_count": 41,
   "metadata": {},
   "outputs": [],
   "source": [
    "#Defining Loss Function\n",
    "cross_entropy = tf.reduce_mean(tf.nn.softmax_cross_entropy_with_logits_v2(labels=y_true,logits=y_pred))\n",
    "#Defining objective\n",
    "training = tf.train.RMSPropOptimizer(learning_rate=0.0001).minimize(cross_entropy)"
   ]
  },
  {
   "cell_type": "code",
   "execution_count": 42,
   "metadata": {},
   "outputs": [],
   "source": [
    "##Initializing trainable/non-trainable variables\n",
    "init = tf.global_variables_initializer()"
   ]
  },
  {
   "cell_type": "code",
   "execution_count": 43,
   "metadata": {},
   "outputs": [],
   "source": [
    "#Creating a tf.train.Saver() object to keep records\n",
    "saver = tf.train.Saver()"
   ]
  },
  {
   "cell_type": "code",
   "execution_count": 44,
   "metadata": {},
   "outputs": [],
   "source": [
    "#Defining a function for early stopping\n",
    "def early_stopping_check(x):\n",
    "    if np.mean(x[-20:]) <= np.mean(x[-80:]):\n",
    "        return True\n",
    "    else:\n",
    "        return False"
   ]
  },
  {
   "cell_type": "code",
   "execution_count": 45,
   "metadata": {},
   "outputs": [
    {
     "name": "stdout",
     "output_type": "stream",
     "text": [
      "Training  : Iter = 0, Train Loss = 1.5954465866088867, Train Accuracy = 0.515625\n",
      "Validation: Iter = 0, CV    Loss = 1.5820374488830566, CV Accuracy = 0.5390625\n",
      "Training  : Iter = 1000, Train Loss = 0.40075746178627014, Train Accuracy = 0.84375\n",
      "Validation: Iter = 1000, CV    Loss = 0.6169290542602539, CV Accuracy = 0.78125\n",
      "Training  : Iter = 2000, Train Loss = 0.2487507462501526, Train Accuracy = 0.890625\n",
      "Validation: Iter = 2000, CV    Loss = 0.4080124795436859, CV Accuracy = 0.828125\n"
     ]
    },
    {
     "ename": "KeyboardInterrupt",
     "evalue": "",
     "output_type": "error",
     "traceback": [
      "\u001b[0;31m---------------------------------------------------------------------------\u001b[0m",
      "\u001b[0;31mKeyboardInterrupt\u001b[0m                         Traceback (most recent call last)",
      "\u001b[0;32m<ipython-input-45-9201fbd21491>\u001b[0m in \u001b[0;36m<module>\u001b[0;34m\u001b[0m\n\u001b[1;32m     30\u001b[0m         _,c = sess.run([training,cross_entropy] ,\\\n\u001b[1;32m     31\u001b[0m                        feed_dict = {input_data : train_X[random_numbers],\\\n\u001b[0;32m---> 32\u001b[0;31m                        y_true : train_y[random_numbers], hold_prob1:0.8} )\n\u001b[0m\u001b[1;32m     33\u001b[0m         \u001b[0;31m#Validating Loop\u001b[0m\u001b[0;34m\u001b[0m\u001b[0;34m\u001b[0m\u001b[0;34m\u001b[0m\u001b[0m\n\u001b[1;32m     34\u001b[0m         \u001b[0;32mif\u001b[0m \u001b[0mi\u001b[0m \u001b[0;34m%\u001b[0m \u001b[0mval_loop_iter\u001b[0m \u001b[0;34m==\u001b[0m \u001b[0;36m0\u001b[0m\u001b[0;34m:\u001b[0m\u001b[0;34m\u001b[0m\u001b[0;34m\u001b[0m\u001b[0m\n",
      "\u001b[0;32m/usr/local/lib/python3.6/dist-packages/tensorflow/python/client/session.py\u001b[0m in \u001b[0;36mrun\u001b[0;34m(self, fetches, feed_dict, options, run_metadata)\u001b[0m\n\u001b[1;32m    927\u001b[0m     \u001b[0;32mtry\u001b[0m\u001b[0;34m:\u001b[0m\u001b[0;34m\u001b[0m\u001b[0;34m\u001b[0m\u001b[0m\n\u001b[1;32m    928\u001b[0m       result = self._run(None, fetches, feed_dict, options_ptr,\n\u001b[0;32m--> 929\u001b[0;31m                          run_metadata_ptr)\n\u001b[0m\u001b[1;32m    930\u001b[0m       \u001b[0;32mif\u001b[0m \u001b[0mrun_metadata\u001b[0m\u001b[0;34m:\u001b[0m\u001b[0;34m\u001b[0m\u001b[0;34m\u001b[0m\u001b[0m\n\u001b[1;32m    931\u001b[0m         \u001b[0mproto_data\u001b[0m \u001b[0;34m=\u001b[0m \u001b[0mtf_session\u001b[0m\u001b[0;34m.\u001b[0m\u001b[0mTF_GetBuffer\u001b[0m\u001b[0;34m(\u001b[0m\u001b[0mrun_metadata_ptr\u001b[0m\u001b[0;34m)\u001b[0m\u001b[0;34m\u001b[0m\u001b[0;34m\u001b[0m\u001b[0m\n",
      "\u001b[0;32m/usr/local/lib/python3.6/dist-packages/tensorflow/python/client/session.py\u001b[0m in \u001b[0;36m_run\u001b[0;34m(self, handle, fetches, feed_dict, options, run_metadata)\u001b[0m\n\u001b[1;32m   1150\u001b[0m     \u001b[0;32mif\u001b[0m \u001b[0mfinal_fetches\u001b[0m \u001b[0;32mor\u001b[0m \u001b[0mfinal_targets\u001b[0m \u001b[0;32mor\u001b[0m \u001b[0;34m(\u001b[0m\u001b[0mhandle\u001b[0m \u001b[0;32mand\u001b[0m \u001b[0mfeed_dict_tensor\u001b[0m\u001b[0;34m)\u001b[0m\u001b[0;34m:\u001b[0m\u001b[0;34m\u001b[0m\u001b[0;34m\u001b[0m\u001b[0m\n\u001b[1;32m   1151\u001b[0m       results = self._do_run(handle, final_targets, final_fetches,\n\u001b[0;32m-> 1152\u001b[0;31m                              feed_dict_tensor, options, run_metadata)\n\u001b[0m\u001b[1;32m   1153\u001b[0m     \u001b[0;32melse\u001b[0m\u001b[0;34m:\u001b[0m\u001b[0;34m\u001b[0m\u001b[0;34m\u001b[0m\u001b[0m\n\u001b[1;32m   1154\u001b[0m       \u001b[0mresults\u001b[0m \u001b[0;34m=\u001b[0m \u001b[0;34m[\u001b[0m\u001b[0;34m]\u001b[0m\u001b[0;34m\u001b[0m\u001b[0;34m\u001b[0m\u001b[0m\n",
      "\u001b[0;32m/usr/local/lib/python3.6/dist-packages/tensorflow/python/client/session.py\u001b[0m in \u001b[0;36m_do_run\u001b[0;34m(self, handle, target_list, fetch_list, feed_dict, options, run_metadata)\u001b[0m\n\u001b[1;32m   1326\u001b[0m     \u001b[0;32mif\u001b[0m \u001b[0mhandle\u001b[0m \u001b[0;32mis\u001b[0m \u001b[0;32mNone\u001b[0m\u001b[0;34m:\u001b[0m\u001b[0;34m\u001b[0m\u001b[0;34m\u001b[0m\u001b[0m\n\u001b[1;32m   1327\u001b[0m       return self._do_call(_run_fn, feeds, fetches, targets, options,\n\u001b[0;32m-> 1328\u001b[0;31m                            run_metadata)\n\u001b[0m\u001b[1;32m   1329\u001b[0m     \u001b[0;32melse\u001b[0m\u001b[0;34m:\u001b[0m\u001b[0;34m\u001b[0m\u001b[0;34m\u001b[0m\u001b[0m\n\u001b[1;32m   1330\u001b[0m       \u001b[0;32mreturn\u001b[0m \u001b[0mself\u001b[0m\u001b[0;34m.\u001b[0m\u001b[0m_do_call\u001b[0m\u001b[0;34m(\u001b[0m\u001b[0m_prun_fn\u001b[0m\u001b[0;34m,\u001b[0m \u001b[0mhandle\u001b[0m\u001b[0;34m,\u001b[0m \u001b[0mfeeds\u001b[0m\u001b[0;34m,\u001b[0m \u001b[0mfetches\u001b[0m\u001b[0;34m)\u001b[0m\u001b[0;34m\u001b[0m\u001b[0;34m\u001b[0m\u001b[0m\n",
      "\u001b[0;32m/usr/local/lib/python3.6/dist-packages/tensorflow/python/client/session.py\u001b[0m in \u001b[0;36m_do_call\u001b[0;34m(self, fn, *args)\u001b[0m\n\u001b[1;32m   1332\u001b[0m   \u001b[0;32mdef\u001b[0m \u001b[0m_do_call\u001b[0m\u001b[0;34m(\u001b[0m\u001b[0mself\u001b[0m\u001b[0;34m,\u001b[0m \u001b[0mfn\u001b[0m\u001b[0;34m,\u001b[0m \u001b[0;34m*\u001b[0m\u001b[0margs\u001b[0m\u001b[0;34m)\u001b[0m\u001b[0;34m:\u001b[0m\u001b[0;34m\u001b[0m\u001b[0;34m\u001b[0m\u001b[0m\n\u001b[1;32m   1333\u001b[0m     \u001b[0;32mtry\u001b[0m\u001b[0;34m:\u001b[0m\u001b[0;34m\u001b[0m\u001b[0;34m\u001b[0m\u001b[0m\n\u001b[0;32m-> 1334\u001b[0;31m       \u001b[0;32mreturn\u001b[0m \u001b[0mfn\u001b[0m\u001b[0;34m(\u001b[0m\u001b[0;34m*\u001b[0m\u001b[0margs\u001b[0m\u001b[0;34m)\u001b[0m\u001b[0;34m\u001b[0m\u001b[0;34m\u001b[0m\u001b[0m\n\u001b[0m\u001b[1;32m   1335\u001b[0m     \u001b[0;32mexcept\u001b[0m \u001b[0merrors\u001b[0m\u001b[0;34m.\u001b[0m\u001b[0mOpError\u001b[0m \u001b[0;32mas\u001b[0m \u001b[0me\u001b[0m\u001b[0;34m:\u001b[0m\u001b[0;34m\u001b[0m\u001b[0;34m\u001b[0m\u001b[0m\n\u001b[1;32m   1336\u001b[0m       \u001b[0mmessage\u001b[0m \u001b[0;34m=\u001b[0m \u001b[0mcompat\u001b[0m\u001b[0;34m.\u001b[0m\u001b[0mas_text\u001b[0m\u001b[0;34m(\u001b[0m\u001b[0me\u001b[0m\u001b[0;34m.\u001b[0m\u001b[0mmessage\u001b[0m\u001b[0;34m)\u001b[0m\u001b[0;34m\u001b[0m\u001b[0;34m\u001b[0m\u001b[0m\n",
      "\u001b[0;32m/usr/local/lib/python3.6/dist-packages/tensorflow/python/client/session.py\u001b[0m in \u001b[0;36m_run_fn\u001b[0;34m(feed_dict, fetch_list, target_list, options, run_metadata)\u001b[0m\n\u001b[1;32m   1317\u001b[0m       \u001b[0mself\u001b[0m\u001b[0;34m.\u001b[0m\u001b[0m_extend_graph\u001b[0m\u001b[0;34m(\u001b[0m\u001b[0;34m)\u001b[0m\u001b[0;34m\u001b[0m\u001b[0;34m\u001b[0m\u001b[0m\n\u001b[1;32m   1318\u001b[0m       return self._call_tf_sessionrun(\n\u001b[0;32m-> 1319\u001b[0;31m           options, feed_dict, fetch_list, target_list, run_metadata)\n\u001b[0m\u001b[1;32m   1320\u001b[0m \u001b[0;34m\u001b[0m\u001b[0m\n\u001b[1;32m   1321\u001b[0m     \u001b[0;32mdef\u001b[0m \u001b[0m_prun_fn\u001b[0m\u001b[0;34m(\u001b[0m\u001b[0mhandle\u001b[0m\u001b[0;34m,\u001b[0m \u001b[0mfeed_dict\u001b[0m\u001b[0;34m,\u001b[0m \u001b[0mfetch_list\u001b[0m\u001b[0;34m)\u001b[0m\u001b[0;34m:\u001b[0m\u001b[0;34m\u001b[0m\u001b[0;34m\u001b[0m\u001b[0m\n",
      "\u001b[0;32m/usr/local/lib/python3.6/dist-packages/tensorflow/python/client/session.py\u001b[0m in \u001b[0;36m_call_tf_sessionrun\u001b[0;34m(self, options, feed_dict, fetch_list, target_list, run_metadata)\u001b[0m\n\u001b[1;32m   1405\u001b[0m     return tf_session.TF_SessionRun_wrapper(\n\u001b[1;32m   1406\u001b[0m         \u001b[0mself\u001b[0m\u001b[0;34m.\u001b[0m\u001b[0m_session\u001b[0m\u001b[0;34m,\u001b[0m \u001b[0moptions\u001b[0m\u001b[0;34m,\u001b[0m \u001b[0mfeed_dict\u001b[0m\u001b[0;34m,\u001b[0m \u001b[0mfetch_list\u001b[0m\u001b[0;34m,\u001b[0m \u001b[0mtarget_list\u001b[0m\u001b[0;34m,\u001b[0m\u001b[0;34m\u001b[0m\u001b[0;34m\u001b[0m\u001b[0m\n\u001b[0;32m-> 1407\u001b[0;31m         run_metadata)\n\u001b[0m\u001b[1;32m   1408\u001b[0m \u001b[0;34m\u001b[0m\u001b[0m\n\u001b[1;32m   1409\u001b[0m   \u001b[0;32mdef\u001b[0m \u001b[0m_call_tf_sessionprun\u001b[0m\u001b[0;34m(\u001b[0m\u001b[0mself\u001b[0m\u001b[0;34m,\u001b[0m \u001b[0mhandle\u001b[0m\u001b[0;34m,\u001b[0m \u001b[0mfeed_dict\u001b[0m\u001b[0;34m,\u001b[0m \u001b[0mfetch_list\u001b[0m\u001b[0;34m)\u001b[0m\u001b[0;34m:\u001b[0m\u001b[0;34m\u001b[0m\u001b[0;34m\u001b[0m\u001b[0m\n",
      "\u001b[0;31mKeyboardInterrupt\u001b[0m: "
     ]
    }
   ],
   "source": [
    "#GPU settings\n",
    "config = tf.ConfigProto(allow_soft_placement=True)\n",
    "config.gpu_options.allow_growth = True\n",
    "config.gpu_options.allocator_type = 'BFC'\n",
    "#Opening up Session\n",
    "with tf.Session(config=config) as sess:\n",
    "    #Running init\n",
    "    sess.run(init)    \n",
    "    \n",
    "    #For TensorBoard\n",
    "    \"\"\"\n",
    "    The 5 line below taken from:\n",
    "    https://github.com/adeshpande3/LSTM-Sentiment-Analysis/blob/master/Oriole%20LSTM.ipynb\n",
    "    \"\"\"\n",
    "    tf.summary.scalar('Loss', cross_entropy)\n",
    "    tf.summary.scalar('Accuracy', acc)\n",
    "    merged = tf.summary.merge_all()\n",
    "    logdir_train = \"tensorboard/\" + datetime.now().strftime(\"%Y%m%d-%H%M%S\") + \"/\" + 'train'\n",
    "    logdir_cv = \"tensorboard/\" + datetime.now().strftime(\"%Y%m%d-%H%M%S\") + \"/\" + 'cv'\n",
    "    \n",
    "    writer_train = tf.summary.FileWriter(logdir_train, sess.graph)\n",
    "    writer_cv = tf.summary.FileWriter(logdir_cv, sess.graph)\n",
    "    \n",
    "    #Creating a list for Early Stopping\n",
    "    val_scores_loss= []\n",
    "    \n",
    "    #Main loop\n",
    "    for i in range(iterations):\n",
    "        random_numbers = np.random.randint(0,len(train_X),batchSize)\n",
    "        _,c = sess.run([training,cross_entropy] ,\\\n",
    "                       feed_dict = {input_data : train_X[random_numbers],\\\n",
    "                       y_true : train_y[random_numbers], hold_prob1:0.8} )\n",
    "        #Validating Loop\n",
    "        if i % val_loop_iter == 0:\n",
    "            random_numbers_cv = np.random.randint(0,len(test_X),batchSize)\n",
    "            #Getting validation stats.\n",
    "            acc_cv,loss_cv,summary_cv = sess.run([acc,cross_entropy,merged],\\\n",
    "                                                 feed_dict = {input_data:test_X[random_numbers_cv],\\\n",
    "                                                              y_true:test_y[random_numbers_cv],hold_prob1:1.0})\n",
    "            #Getting train stats.\n",
    "            acc_tr,loss_tr,summary_tr = sess.run([acc,cross_entropy,merged],\\\n",
    "                                                 feed_dict={input_data:train_X[random_numbers],\\\n",
    "                                                            y_true:train_y[random_numbers],hold_prob1:1.0})\n",
    "            \n",
    "            #Appending loss_cv to val_scores:\n",
    "            val_scores_loss.append(loss_cv)\n",
    "            \n",
    "            #Adding results for TensorBoard\n",
    "            writer_train.add_summary(summary_tr, i)\n",
    "            writer_train.flush()\n",
    "            writer_cv.add_summary(summary_cv, i)\n",
    "            writer_cv.flush()\n",
    "            \n",
    "            #Printing on each 1000 iterations\n",
    "            if i%1000 ==0:\n",
    "                print(\"Training  : Iter = {}, Train Loss = {}, Train Accuracy = {}\".format(i,loss_tr,acc_tr))\n",
    "                print(\"Validation: Iter = {}, CV    Loss = {}, CV Accuracy = {}\".format(i,loss_cv,acc_cv))\n",
    "                \n",
    "                #If validation loss didn't decrease for val_loop_iter * 20 iters, stop.\n",
    "                if early_stopping_check(val_scores_loss) == False:\n",
    "                    saver.save(sess, os.path.join(os.getcwd(),\"1_layered_GRU.ckpt\"),global_step=i)\n",
    "                    break\n",
    "                \n",
    "    print(\"Training has finished\")"
   ]
  },
  {
   "cell_type": "code",
   "execution_count": null,
   "metadata": {},
   "outputs": [],
   "source": []
  },
  {
   "cell_type": "code",
   "execution_count": null,
   "metadata": {},
   "outputs": [],
   "source": []
  },
  {
   "cell_type": "code",
   "execution_count": null,
   "metadata": {},
   "outputs": [],
   "source": []
  },
  {
   "cell_type": "code",
   "execution_count": null,
   "metadata": {},
   "outputs": [],
   "source": []
  },
  {
   "cell_type": "code",
   "execution_count": null,
   "metadata": {},
   "outputs": [],
   "source": []
  },
  {
   "cell_type": "code",
   "execution_count": null,
   "metadata": {},
   "outputs": [],
   "source": []
  }
 ],
 "metadata": {
  "kernelspec": {
   "display_name": "Python 3",
   "language": "python",
   "name": "python3"
  },
  "language_info": {
   "codemirror_mode": {
    "name": "ipython",
    "version": 3
   },
   "file_extension": ".py",
   "mimetype": "text/x-python",
   "name": "python",
   "nbconvert_exporter": "python",
   "pygments_lexer": "ipython3",
   "version": "3.6.7"
  }
 },
 "nbformat": 4,
 "nbformat_minor": 2
}
