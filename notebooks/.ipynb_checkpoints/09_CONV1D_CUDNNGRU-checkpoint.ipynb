{
 "cells": [
  {
   "cell_type": "code",
   "execution_count": 1,
   "metadata": {},
   "outputs": [
    {
     "name": "stderr",
     "output_type": "stream",
     "text": [
      "Using TensorFlow backend.\n"
     ]
    }
   ],
   "source": [
    "import numpy as np\n",
    "import pandas as pd\n",
    "from keras.preprocessing.text import Tokenizer\n",
    "from keras.preprocessing.text import text_to_word_sequence\n",
    "import os\n",
    "from tqdm import tqdm\n",
    "import re\n",
    "from keras.preprocessing.sequence import pad_sequences\n",
    "import tensorflow as tf\n",
    "from datetime import datetime"
   ]
  },
  {
   "cell_type": "code",
   "execution_count": 2,
   "metadata": {},
   "outputs": [],
   "source": [
    "#Always seed the randomness of this universe.\n",
    "np.random.seed(51)"
   ]
  },
  {
   "cell_type": "code",
   "execution_count": 3,
   "metadata": {},
   "outputs": [],
   "source": [
    "#Define HyperParameters\n",
    "MAX_WORD_TO_USE = 100000 # how many words to use in training\n",
    "MAX_LEN = 80 # number of time-steps.\n",
    "EMBED_SIZE = 100 #GLoVe 100-D\n",
    "batchSize = 128 # how many samples to feed neural network\n",
    "GRU_UNITS = 256 # Number of nodes in GRU Layer\n",
    "numClasses = 2 #{Positive,Negative}\n",
    "iterations = 100000 # How many iterations to train\n",
    "nodes_on_FC = 64 # Number of nodes on FC layer\n",
    "epsilon = 1e-4# For batch normalization\n",
    "val_loop_iter = 50 # in how many iters we record\n",
    "filter_width = 3 # filter width in tf.nn.conv1d"
   ]
  },
  {
   "cell_type": "markdown",
   "metadata": {},
   "source": [
    "# CLEANING DATA"
   ]
  },
  {
   "cell_type": "code",
   "execution_count": 4,
   "metadata": {},
   "outputs": [],
   "source": [
    "#Reading csv's\n",
    "train = pd.read_csv('../dataset/train_amazon.csv')\n",
    "test = pd.read_csv('../dataset/test_amazon.csv')"
   ]
  },
  {
   "cell_type": "code",
   "execution_count": 5,
   "metadata": {},
   "outputs": [],
   "source": [
    "#Removing punctuations\n",
    "#Converting to Lowercase and cleaning punctiations\n",
    "train['text'] = train['text'].apply(lambda x: ' '.join( text_to_word_sequence(x) ) )\n",
    "test['text'] = test['text'].apply(lambda x: ' '.join( text_to_word_sequence(x) ) )"
   ]
  },
  {
   "cell_type": "code",
   "execution_count": 6,
   "metadata": {},
   "outputs": [],
   "source": [
    "def remove_numbers(x):\n",
    "    x = re.sub('[0-9]{5,}', '#####', x)\n",
    "    x = re.sub('[0-9]{4}', '####', x)\n",
    "    x = re.sub('[0-9]{3}', '###', x)\n",
    "    x = re.sub('[0-9]{2}', '##', x)\n",
    "    return x"
   ]
  },
  {
   "cell_type": "code",
   "execution_count": 7,
   "metadata": {},
   "outputs": [],
   "source": [
    "#Removing Numbers\n",
    "train['text'] = train['text'].apply(lambda x: remove_numbers(x) ) \n",
    "test['text'] = test['text'].apply(lambda x: remove_numbers(x) )"
   ]
  },
  {
   "cell_type": "code",
   "execution_count": 8,
   "metadata": {},
   "outputs": [],
   "source": [
    "## Tokenize the sentences\n",
    "tokenizer = Tokenizer(num_words=MAX_WORD_TO_USE)\n",
    "tokenizer.fit_on_texts(list(train['text']))\n",
    "train_X = tokenizer.texts_to_sequences(train['text'])\n",
    "test_X = tokenizer.texts_to_sequences(test['text'])\n",
    "## Pad the sentences \n",
    "train_X = pad_sequences(train_X, maxlen=MAX_LEN)\n",
    "test_X = pad_sequences(test_X, maxlen=MAX_LEN)\n",
    "#Converting target to one-hot format\n",
    "train_y = pd.get_dummies(train['label']).values\n",
    "test_y = pd.get_dummies(test['label']).values"
   ]
  },
  {
   "cell_type": "code",
   "execution_count": 9,
   "metadata": {},
   "outputs": [],
   "source": [
    "#words_dict is a dictionary like this: \n",
    "#words_dict = {'the':5,'among':20,'interest':578}\n",
    "#words_dict includes words and their corresponding numbers.\n",
    "words_dict = tokenizer.word_index"
   ]
  },
  {
   "cell_type": "code",
   "execution_count": 10,
   "metadata": {},
   "outputs": [],
   "source": [
    "#Present working directory\n",
    "working_dir = os.getcwd()\n",
    "\n",
    "EMBEDDING_FILE = '../glove.6B.{}d.txt'.format(EMBED_SIZE)\n",
    "def get_coefs(word,*arr):\n",
    "    \"\"\"\n",
    "    Reading word embedding\n",
    "    from: https://www.kaggle.com/shujian/single-rnn-with-4-folds-clr\n",
    "    \"\"\"\n",
    "    return word, np.asarray(arr, dtype='float32')\n",
    "\n",
    "embeddings_index = dict(get_coefs(*o.split(\" \")) for o in open(os.path.join(working_dir,EMBEDDING_FILE) ))"
   ]
  },
  {
   "cell_type": "code",
   "execution_count": 11,
   "metadata": {},
   "outputs": [
    {
     "name": "stdout",
     "output_type": "stream",
     "text": [
      "There are 400000 words in our Word Embeddings file\n"
     ]
    }
   ],
   "source": [
    "print(\"There are {} words in our Word Embeddings file\".format(len(embeddings_index)))"
   ]
  },
  {
   "cell_type": "code",
   "execution_count": 12,
   "metadata": {},
   "outputs": [],
   "source": [
    "all_embs = np.stack(embeddings_index.values())\n",
    "#Calculating mean and std to fill embedding matrix\n",
    "emb_mean,emb_std = all_embs.mean(), all_embs.std()\n",
    "embed_size = all_embs.shape[1]\n",
    "#Choosing how many words to use in the embedding matrix\n",
    "nb_words = min(MAX_WORD_TO_USE, len(words_dict))\n",
    "#Creating a random Embedding Matrix to fill later\n",
    "embedding_matrix = np.random.normal(emb_mean, emb_std, (nb_words, embed_size))"
   ]
  },
  {
   "cell_type": "code",
   "execution_count": 13,
   "metadata": {},
   "outputs": [],
   "source": [
    "#Filling out randomly created embedding matrix with true values.\n",
    "for word, i in words_dict.items():\n",
    "    if i >= MAX_WORD_TO_USE:\n",
    "        continue\n",
    "    embedding_vector = embeddings_index.get(word)\n",
    "    if embedding_vector is not None:\n",
    "        embedding_matrix[i] = embedding_vector"
   ]
  },
  {
   "cell_type": "code",
   "execution_count": 14,
   "metadata": {},
   "outputs": [],
   "source": [
    "#Converting float64 to float32 for convenience\n",
    "embedding_matrix = embedding_matrix.astype('float32')"
   ]
  },
  {
   "cell_type": "code",
   "execution_count": 37,
   "metadata": {},
   "outputs": [],
   "source": [
    "#Resetting the graph\n",
    "tf.reset_default_graph()"
   ]
  },
  {
   "cell_type": "code",
   "execution_count": 38,
   "metadata": {},
   "outputs": [],
   "source": [
    "#Seed the randomness\n",
    "tf.set_random_seed(51)"
   ]
  },
  {
   "cell_type": "code",
   "execution_count": 39,
   "metadata": {},
   "outputs": [],
   "source": [
    "#Defining Placeholders\n",
    "input_data = tf.placeholder(tf.int32, [batchSize, MAX_LEN])\n",
    "y_true = tf.placeholder(tf.float32, [batchSize, numClasses])"
   ]
  },
  {
   "cell_type": "code",
   "execution_count": 40,
   "metadata": {},
   "outputs": [],
   "source": [
    "hold_prob1 = tf.placeholder(tf.float32)"
   ]
  },
  {
   "cell_type": "code",
   "execution_count": 41,
   "metadata": {},
   "outputs": [],
   "source": [
    "#Creating our Embedding matrix\n",
    "data = tf.nn.embedding_lookup(embedding_matrix,input_data)"
   ]
  },
  {
   "cell_type": "code",
   "execution_count": 42,
   "metadata": {},
   "outputs": [
    {
     "name": "stdout",
     "output_type": "stream",
     "text": [
      "[128, 80, 100]\n"
     ]
    }
   ],
   "source": [
    "print(data.get_shape().as_list())"
   ]
  },
  {
   "cell_type": "code",
   "execution_count": 43,
   "metadata": {},
   "outputs": [],
   "source": [
    "#CONVOLUTION LAYER 1 -CONV1D\n",
    "#Weights for layer 1\n",
    "#filter_width = how the width of convolution operation\n",
    "#EMBED_SIZE = input dimension of Word embeddings that we feed\n",
    "#int(EMBED_SIZE/2) = output dimension of Word embeddings after convolution\n",
    "#stride = how many step to stride the convolution\n",
    "w_conv1d_1 = tf.Variable(tf.truncated_normal([filter_width,EMBED_SIZE,int(EMBED_SIZE/2)], stddev=0.01))\n",
    "data_conv1d_1 = tf.nn.conv1d(data, filters = w_conv1d_1 , stride=1, padding=\"SAME\")"
   ]
  },
  {
   "cell_type": "code",
   "execution_count": 44,
   "metadata": {},
   "outputs": [
    {
     "name": "stdout",
     "output_type": "stream",
     "text": [
      "[128, 80, 50]\n"
     ]
    }
   ],
   "source": [
    "print(data_conv1d_1.get_shape().as_list())"
   ]
  },
  {
   "cell_type": "code",
   "execution_count": 45,
   "metadata": {},
   "outputs": [],
   "source": [
    "#CONVOLUTION LAYER 2 -CONV1D\n",
    "#weights for layer2\n",
    "#filter_width = how the width of convolution operation\n",
    "#int(EMBED_SIZE/2) = input dimension of Word embeddings that we feed\n",
    "#int(EMBED_SIZE/2) = output dimension of Word embeddings after convolution.\n",
    "#stride = how many step to stride the convolution\n",
    "w_conv1d_2 = tf.Variable(tf.truncated_normal([filter_width*2,int(EMBED_SIZE/2),int(EMBED_SIZE/2)], stddev=0.01))\n",
    "data_conv1d_2 = tf.nn.conv1d(data_conv1d_1, filters = w_conv1d_2 , stride=1, padding=\"VALID\")"
   ]
  },
  {
   "cell_type": "code",
   "execution_count": 46,
   "metadata": {},
   "outputs": [
    {
     "name": "stdout",
     "output_type": "stream",
     "text": [
      "[128, 75, 50]\n"
     ]
    }
   ],
   "source": [
    "print(data_conv1d_2.get_shape().as_list())"
   ]
  },
  {
   "cell_type": "code",
   "execution_count": 47,
   "metadata": {},
   "outputs": [],
   "source": [
    "data_conv1d_2 = tf.transpose(data_conv1d_2, [1, 0, 2])"
   ]
  },
  {
   "cell_type": "code",
   "execution_count": 48,
   "metadata": {},
   "outputs": [
    {
     "name": "stdout",
     "output_type": "stream",
     "text": [
      "[75, 128, 50]\n"
     ]
    }
   ],
   "source": [
    "print(data_conv1d_2.get_shape().as_list())"
   ]
  },
  {
   "cell_type": "code",
   "execution_count": 49,
   "metadata": {},
   "outputs": [
    {
     "data": {
      "text/plain": [
       "'\\n#For stacked (more than 1 layer) GRU architecture\\n\\nGRU_CELL = tf.contrib.cudnn_rnn.CudnnGRU(num_layers=2,num_units=GRU_UNITS,\\n                               bias_initializer = tf.constant_initializer(0.1),\\n                              kernel_initializer=tf.contrib.layers.xavier_initializer(),dropout=0.2)\\n'"
      ]
     },
     "execution_count": 49,
     "metadata": {},
     "output_type": "execute_result"
    }
   ],
   "source": [
    "#Defining CudnnGRU Layer\n",
    "\n",
    "#For single layer GRU\n",
    "GRU_CELL = tf.contrib.cudnn_rnn.CudnnGRU(num_layers=1,num_units=GRU_UNITS,\\\n",
    "                                         bias_initializer = tf.constant_initializer(0.1),\\\n",
    "                                         kernel_initializer=tf.contrib.layers.xavier_initializer() )\n",
    "\n",
    "\"\"\"\n",
    "#For stacked (more than 1 layer) GRU architecture\n",
    "\n",
    "GRU_CELL = tf.contrib.cudnn_rnn.CudnnGRU(num_layers=2,num_units=GRU_UNITS,\n",
    "                               bias_initializer = tf.constant_initializer(0.1),\n",
    "                              kernel_initializer=tf.contrib.layers.xavier_initializer(),dropout=0.2)\n",
    "\"\"\""
   ]
  },
  {
   "cell_type": "code",
   "execution_count": 50,
   "metadata": {},
   "outputs": [],
   "source": [
    "value, _ = GRU_CELL(inputs= data_conv1d_2)"
   ]
  },
  {
   "cell_type": "code",
   "execution_count": 51,
   "metadata": {},
   "outputs": [
    {
     "name": "stdout",
     "output_type": "stream",
     "text": [
      "Shape of value =  [75, 128, 256]\n"
     ]
    }
   ],
   "source": [
    "print(\"Shape of value = \",value.get_shape().as_list())"
   ]
  },
  {
   "cell_type": "code",
   "execution_count": 52,
   "metadata": {},
   "outputs": [],
   "source": [
    "#tf.gather outputed last row of 'value' whose index = MAX_LEN-1;\n",
    "#which is equal int(value.get_shape()[0]) - 1.\n",
    "last = tf.gather(value, int(value.get_shape()[0]) - 1)"
   ]
  },
  {
   "cell_type": "code",
   "execution_count": 53,
   "metadata": {},
   "outputs": [
    {
     "name": "stdout",
     "output_type": "stream",
     "text": [
      "[128, 256]\n"
     ]
    }
   ],
   "source": [
    "print(last.get_shape().as_list())"
   ]
  },
  {
   "cell_type": "code",
   "execution_count": 54,
   "metadata": {},
   "outputs": [],
   "source": [
    "#Defining weights and biases for 1 st Fully Connected part of NN\n",
    "weight_fc1 = tf.Variable(tf.truncated_normal([GRU_UNITS, nodes_on_FC]))\n",
    "bias_fc1 = tf.Variable(tf.constant(0.1, shape=[nodes_on_FC]))"
   ]
  },
  {
   "cell_type": "code",
   "execution_count": 55,
   "metadata": {},
   "outputs": [],
   "source": [
    "#Defining 1st FC layer\n",
    "y_pred_without_BN = tf.matmul(last, weight_fc1) + bias_fc1\n",
    "#calculating batch_mean and batch_variance\n",
    "batch_mean, batch_var = tf.nn.moments(y_pred_without_BN,[0])\n",
    "#Creating parameters for Batch normalization\n",
    "scale = tf.Variable(tf.ones([nodes_on_FC]))\n",
    "beta = tf.Variable(tf.zeros([nodes_on_FC]))\n",
    "#Implementing batch normalization\n",
    "y_pred_without_activation = tf.nn.batch_normalization(y_pred_without_BN,batch_mean,\\\n",
    "                                                      batch_var,beta,scale,epsilon)"
   ]
  },
  {
   "cell_type": "code",
   "execution_count": 56,
   "metadata": {},
   "outputs": [],
   "source": [
    "#Applying RELU\n",
    "y_pred_with_activation = tf.nn.relu(y_pred_without_activation)\n",
    "#Dropout Layer 1\n",
    "y_pred_with_dropout = tf.nn.dropout(y_pred_with_activation,keep_prob=hold_prob1)"
   ]
  },
  {
   "cell_type": "code",
   "execution_count": 57,
   "metadata": {},
   "outputs": [],
   "source": [
    "#Defining weights and biases for 1 st Fully Connected part of NN\n",
    "weight_output_layer = tf.Variable(tf.truncated_normal([nodes_on_FC, numClasses]))\n",
    "bias_output_layer = tf.Variable(tf.constant(0.1, shape=[numClasses]))\n",
    "#Calculating last layer of NN, without any activation\n",
    "y_pred = tf.matmul(y_pred_with_dropout, weight_output_layer) + bias_output_layer"
   ]
  },
  {
   "cell_type": "code",
   "execution_count": 58,
   "metadata": {},
   "outputs": [],
   "source": [
    "#Defining Accuracy\n",
    "matches = tf.equal(tf.argmax(y_pred,1),tf.argmax(y_true,1))\n",
    "acc = tf.reduce_mean(tf.cast(matches,tf.float32))"
   ]
  },
  {
   "cell_type": "code",
   "execution_count": 59,
   "metadata": {},
   "outputs": [],
   "source": [
    "#Defining Loss Function\n",
    "cross_entropy = tf.reduce_mean(tf.nn.softmax_cross_entropy_with_logits_v2(labels=y_true,logits=y_pred))\n",
    "#Defining objective\n",
    "training = tf.train.AdamOptimizer(learning_rate=0.001).minimize(cross_entropy)"
   ]
  },
  {
   "cell_type": "code",
   "execution_count": 60,
   "metadata": {},
   "outputs": [],
   "source": [
    "##Initializing trainable/non-trainable variables\n",
    "init = tf.global_variables_initializer()"
   ]
  },
  {
   "cell_type": "code",
   "execution_count": 61,
   "metadata": {},
   "outputs": [],
   "source": [
    "#Creating a tf.train.Saver() object to keep records\n",
    "saver = tf.train.Saver()"
   ]
  },
  {
   "cell_type": "code",
   "execution_count": 62,
   "metadata": {},
   "outputs": [],
   "source": [
    "#Defining a function for early stopping\n",
    "def early_stopping_check(x):\n",
    "    if np.mean(x[-20:]) <= np.mean(x[-80:]):\n",
    "        return True\n",
    "    else:\n",
    "        return False"
   ]
  },
  {
   "cell_type": "code",
   "execution_count": 63,
   "metadata": {},
   "outputs": [
    {
     "name": "stdout",
     "output_type": "stream",
     "text": [
      "Training  : Iter = 0, Train Loss = 0.6854398250579834, Train Accuracy = 0.828125\n",
      "Validation: Iter = 0, CV    Loss = 3.759401321411133, CV Accuracy = 0.4921875\n",
      "Training  : Iter = 1000, Train Loss = 0.5409892797470093, Train Accuracy = 0.796875\n",
      "Validation: Iter = 1000, CV    Loss = 0.688113808631897, CV Accuracy = 0.734375\n",
      "Training  : Iter = 2000, Train Loss = 0.2866746783256531, Train Accuracy = 0.890625\n",
      "Validation: Iter = 2000, CV    Loss = 0.36520257592201233, CV Accuracy = 0.828125\n",
      "Training  : Iter = 3000, Train Loss = 0.3028290867805481, Train Accuracy = 0.875\n",
      "Validation: Iter = 3000, CV    Loss = 0.35553497076034546, CV Accuracy = 0.8046875\n",
      "Training  : Iter = 4000, Train Loss = 0.3729940950870514, Train Accuracy = 0.8359375\n",
      "Validation: Iter = 4000, CV    Loss = 0.4055425524711609, CV Accuracy = 0.8046875\n",
      "Training  : Iter = 5000, Train Loss = 0.29741954803466797, Train Accuracy = 0.859375\n",
      "Validation: Iter = 5000, CV    Loss = 0.28445327281951904, CV Accuracy = 0.875\n",
      "Training  : Iter = 6000, Train Loss = 0.31812816858291626, Train Accuracy = 0.84375\n",
      "Validation: Iter = 6000, CV    Loss = 0.3861299753189087, CV Accuracy = 0.8046875\n",
      "Training  : Iter = 7000, Train Loss = 0.2560146749019623, Train Accuracy = 0.890625\n",
      "Validation: Iter = 7000, CV    Loss = 0.29914915561676025, CV Accuracy = 0.8515625\n",
      "Training  : Iter = 8000, Train Loss = 0.3015460968017578, Train Accuracy = 0.890625\n",
      "Validation: Iter = 8000, CV    Loss = 0.2537084221839905, CV Accuracy = 0.890625\n",
      "Training  : Iter = 9000, Train Loss = 0.21602964401245117, Train Accuracy = 0.9140625\n",
      "Validation: Iter = 9000, CV    Loss = 0.34376513957977295, CV Accuracy = 0.8359375\n",
      "Training has finished\n"
     ]
    }
   ],
   "source": [
    "#GPU settings\n",
    "config = tf.ConfigProto(allow_soft_placement=True)\n",
    "config.gpu_options.allow_growth = True\n",
    "config.gpu_options.allocator_type = 'BFC'\n",
    "#Opening up Session\n",
    "with tf.Session(config=config) as sess:\n",
    "    #Running init\n",
    "    sess.run(init)    \n",
    "    \n",
    "    #For TensorBoard\n",
    "    \"\"\"\n",
    "    The 5 line below taken from:\n",
    "    https://github.com/adeshpande3/LSTM-Sentiment-Analysis/blob/master/Oriole%20LSTM.ipynb\n",
    "    \"\"\"\n",
    "    tf.summary.scalar('Loss', cross_entropy)\n",
    "    tf.summary.scalar('Accuracy', acc)\n",
    "    merged = tf.summary.merge_all()\n",
    "    logdir_train = \"tensorboard/\" + datetime.now().strftime(\"%Y%m%d-%H%M%S\") + \"/\" + 'train'\n",
    "    logdir_cv = \"tensorboard/\" + datetime.now().strftime(\"%Y%m%d-%H%M%S\") + \"/\" + 'cv'\n",
    "    \n",
    "    writer_train = tf.summary.FileWriter(logdir_train, sess.graph)\n",
    "    writer_cv = tf.summary.FileWriter(logdir_cv, sess.graph)\n",
    "    \n",
    "    #Creating a list for Early Stopping\n",
    "    val_scores_loss= []\n",
    "    \n",
    "    #Main loop\n",
    "    for i in range(iterations):\n",
    "        random_numbers = np.random.randint(0,len(train_X),batchSize)\n",
    "        _,c = sess.run([training,cross_entropy] ,\\\n",
    "                       feed_dict = {input_data : train_X[random_numbers],\\\n",
    "                       y_true : train_y[random_numbers], hold_prob1:0.8} )\n",
    "        #Validating Loop\n",
    "        if i % val_loop_iter == 0:\n",
    "            random_numbers_cv = np.random.randint(0,len(test_X),batchSize)\n",
    "            #Getting validation stats.\n",
    "            acc_cv,loss_cv,summary_cv = sess.run([acc,cross_entropy,merged],\\\n",
    "                                                 feed_dict = {input_data:test_X[random_numbers_cv],\\\n",
    "                                                              y_true:test_y[random_numbers_cv],hold_prob1:1.0})\n",
    "            #Getting train stats.\n",
    "            acc_tr,loss_tr,summary_tr = sess.run([acc,cross_entropy,merged],\\\n",
    "                                                 feed_dict={input_data:train_X[random_numbers],\\\n",
    "                                                            y_true:train_y[random_numbers],hold_prob1:1.0})\n",
    "            \n",
    "            #Appending loss_cv to val_scores:\n",
    "            val_scores_loss.append(loss_cv)\n",
    "            \n",
    "            #Adding results for TensorBoard\n",
    "            writer_train.add_summary(summary_tr, i)\n",
    "            writer_train.flush()\n",
    "            writer_cv.add_summary(summary_cv, i)\n",
    "            writer_cv.flush()\n",
    "            \n",
    "            #Printing on each 1000 iterations\n",
    "            if i%1000 ==0:\n",
    "                print(\"Training  : Iter = {}, Train Loss = {}, Train Accuracy = {}\".format(i,loss_tr,acc_tr))\n",
    "                print(\"Validation: Iter = {}, CV    Loss = {}, CV Accuracy = {}\".format(i,loss_cv,acc_cv))\n",
    "                \n",
    "                #If validation loss didn't decrease for val_loop_iter * 20 iters, stop.\n",
    "                if early_stopping_check(val_scores_loss) == False:\n",
    "                    saver.save(sess, os.path.join(os.getcwd(),\"1_layered_GRU.ckpt\"),global_step=i)\n",
    "                    break\n",
    "                \n",
    "    print(\"Training has finished\")"
   ]
  },
  {
   "cell_type": "code",
   "execution_count": null,
   "metadata": {},
   "outputs": [],
   "source": []
  },
  {
   "cell_type": "code",
   "execution_count": null,
   "metadata": {},
   "outputs": [],
   "source": []
  },
  {
   "cell_type": "code",
   "execution_count": null,
   "metadata": {},
   "outputs": [],
   "source": []
  },
  {
   "cell_type": "code",
   "execution_count": null,
   "metadata": {},
   "outputs": [],
   "source": []
  },
  {
   "cell_type": "code",
   "execution_count": null,
   "metadata": {},
   "outputs": [],
   "source": []
  }
 ],
 "metadata": {
  "kernelspec": {
   "display_name": "Python 3",
   "language": "python",
   "name": "python3"
  },
  "language_info": {
   "codemirror_mode": {
    "name": "ipython",
    "version": 3
   },
   "file_extension": ".py",
   "mimetype": "text/x-python",
   "name": "python",
   "nbconvert_exporter": "python",
   "pygments_lexer": "ipython3",
   "version": "3.6.7"
  }
 },
 "nbformat": 4,
 "nbformat_minor": 2
}
